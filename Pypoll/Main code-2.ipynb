{
 "cells": [
  {
   "cell_type": "code",
   "execution_count": 1,
   "metadata": {},
   "outputs": [
    {
     "data": {
      "text/html": [
       "<div>\n",
       "<style scoped>\n",
       "    .dataframe tbody tr th:only-of-type {\n",
       "        vertical-align: middle;\n",
       "    }\n",
       "\n",
       "    .dataframe tbody tr th {\n",
       "        vertical-align: top;\n",
       "    }\n",
       "\n",
       "    .dataframe thead th {\n",
       "        text-align: right;\n",
       "    }\n",
       "</style>\n",
       "<table border=\"1\" class=\"dataframe\">\n",
       "  <thead>\n",
       "    <tr style=\"text-align: right;\">\n",
       "      <th></th>\n",
       "      <th>Ballot ID</th>\n",
       "      <th>County</th>\n",
       "      <th>Candidate</th>\n",
       "    </tr>\n",
       "  </thead>\n",
       "  <tbody>\n",
       "    <tr>\n",
       "      <th>0</th>\n",
       "      <td>1323913</td>\n",
       "      <td>Jefferson</td>\n",
       "      <td>Charles Casper Stockham</td>\n",
       "    </tr>\n",
       "    <tr>\n",
       "      <th>1</th>\n",
       "      <td>1005842</td>\n",
       "      <td>Jefferson</td>\n",
       "      <td>Charles Casper Stockham</td>\n",
       "    </tr>\n",
       "    <tr>\n",
       "      <th>2</th>\n",
       "      <td>1880345</td>\n",
       "      <td>Jefferson</td>\n",
       "      <td>Charles Casper Stockham</td>\n",
       "    </tr>\n",
       "    <tr>\n",
       "      <th>3</th>\n",
       "      <td>1600337</td>\n",
       "      <td>Jefferson</td>\n",
       "      <td>Charles Casper Stockham</td>\n",
       "    </tr>\n",
       "    <tr>\n",
       "      <th>4</th>\n",
       "      <td>1835994</td>\n",
       "      <td>Jefferson</td>\n",
       "      <td>Charles Casper Stockham</td>\n",
       "    </tr>\n",
       "  </tbody>\n",
       "</table>\n",
       "</div>"
      ],
      "text/plain": [
       "   Ballot ID     County                Candidate\n",
       "0    1323913  Jefferson  Charles Casper Stockham\n",
       "1    1005842  Jefferson  Charles Casper Stockham\n",
       "2    1880345  Jefferson  Charles Casper Stockham\n",
       "3    1600337  Jefferson  Charles Casper Stockham\n",
       "4    1835994  Jefferson  Charles Casper Stockham"
      ]
     },
     "execution_count": 1,
     "metadata": {},
     "output_type": "execute_result"
    }
   ],
   "source": [
    "# First we'll import the os module\n",
    "\n",
    "import pandas as pd\n",
    "from pathlib import Path\n",
    "file = Path(\"/Users/Masih/Desktop/challenge /Pypoll/Resources/election_data.csv\")\n",
    "file = pd.read_csv(file)\n",
    "file.head()\n",
    "\n"
   ]
  },
  {
   "cell_type": "code",
   "execution_count": 2,
   "metadata": {},
   "outputs": [
    {
     "name": "stdout",
     "output_type": "stream",
     "text": [
      "total_votes:  369711\n"
     ]
    }
   ],
   "source": [
    "#The total number of votes cast\n",
    "\n",
    "total_vote = len(file['Ballot ID'])\n",
    "print(\"total_votes: \", total_vote)\n",
    "\n",
    "\n"
   ]
  },
  {
   "cell_type": "code",
   "execution_count": 3,
   "metadata": {},
   "outputs": [
    {
     "name": "stdout",
     "output_type": "stream",
     "text": [
      "List of candidates who received votes:  ['Charles Casper Stockham' 'Diana DeGette' 'Raymon Anthony Doane']\n"
     ]
    }
   ],
   "source": [
    "Candidates = file['Candidate'].unique()\n",
    "print(\"List of candidates who received votes: \", Candidates)"
   ]
  },
  {
   "cell_type": "code",
   "execution_count": 4,
   "metadata": {},
   "outputs": [
    {
     "name": "stdout",
     "output_type": "stream",
     "text": [
      "Percentage of votes each candidate won: \n",
      " Candidate\n",
      "Diana DeGette              73.812248\n",
      "Charles Casper Stockham    23.048543\n",
      "Raymon Anthony Doane        3.139209\n",
      "Name: proportion, dtype: float64\n"
     ]
    }
   ],
   "source": [
    "percentage_votes = file['Candidate'].value_counts(normalize=True) * 100\n",
    "print(\"Percentage of votes each candidate won: \\n\", percentage_votes)"
   ]
  },
  {
   "cell_type": "code",
   "execution_count": 5,
   "metadata": {},
   "outputs": [
    {
     "name": "stdout",
     "output_type": "stream",
     "text": [
      "Total number of votes each candidate won:\n",
      " Candidate\n",
      "Diana DeGette              272892\n",
      "Charles Casper Stockham     85213\n",
      "Raymon Anthony Doane        11606\n",
      "Name: count, dtype: int64\n"
     ]
    }
   ],
   "source": [
    "total_votes_per_candidate = file['Candidate'].value_counts()\n",
    "print(\"Total number of votes each candidate won:\\n\", total_votes_per_candidate)"
   ]
  },
  {
   "cell_type": "code",
   "execution_count": 6,
   "metadata": {},
   "outputs": [
    {
     "name": "stdout",
     "output_type": "stream",
     "text": [
      "Winner of the election based on popular vote: Diana DeGette\n"
     ]
    }
   ],
   "source": [
    "winner = total_votes_per_candidate.idxmax()\n",
    "print(\"Winner of the election based on popular vote:\", winner)"
   ]
  },
  {
   "cell_type": "code",
   "execution_count": 7,
   "metadata": {},
   "outputs": [
    {
     "name": "stdout",
     "output_type": "stream",
     "text": [
      "Results have been saved to vote_results.txt\n"
     ]
    }
   ],
   "source": [
    "# Save the results to a text file\n",
    "output_file = \"vote_results.txt\"\n",
    "with open(output_file, 'w') as f:\n",
    "    f.write(f'total_votes ({total_vote})\\n')\n",
    "    f.write(f'List of candidates who received votes ({Candidates})\\n')\n",
    "    f.write(f' Percentage of votes each candidate wone ({percentage_votes}%)\\n')\n",
    "    f.write(f'Total number of votes each candidate won ({total_votes_per_candidate})\\n')\n",
    "    \n",
    "    f.write(f'Winner of the election based on popular vote ({winner})\\n')\n",
    "\n",
    "print(f'Results have been saved to {output_file}')\n"
   ]
  }
 ],
 "metadata": {
  "kernelspec": {
   "display_name": "devv",
   "language": "python",
   "name": "python3"
  },
  "language_info": {
   "codemirror_mode": {
    "name": "ipython",
    "version": 3
   },
   "file_extension": ".py",
   "mimetype": "text/x-python",
   "name": "python",
   "nbconvert_exporter": "python",
   "pygments_lexer": "ipython3",
   "version": "3.10.13"
  }
 },
 "nbformat": 4,
 "nbformat_minor": 2
}
