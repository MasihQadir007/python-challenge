{
 "cells": [
  {
   "cell_type": "code",
   "execution_count": 3,
   "metadata": {},
   "outputs": [],
   "source": [
    "# First we'll import the os module\n",
    "\n",
    "import pandas as pd\n",
    "from pathlib import Path\n",
    "\n"
   ]
  },
  {
   "cell_type": "code",
   "execution_count": 4,
   "metadata": {},
   "outputs": [
    {
     "data": {
      "text/html": [
       "<div>\n",
       "<style scoped>\n",
       "    .dataframe tbody tr th:only-of-type {\n",
       "        vertical-align: middle;\n",
       "    }\n",
       "\n",
       "    .dataframe tbody tr th {\n",
       "        vertical-align: top;\n",
       "    }\n",
       "\n",
       "    .dataframe thead th {\n",
       "        text-align: right;\n",
       "    }\n",
       "</style>\n",
       "<table border=\"1\" class=\"dataframe\">\n",
       "  <thead>\n",
       "    <tr style=\"text-align: right;\">\n",
       "      <th></th>\n",
       "      <th>Date</th>\n",
       "      <th>Profit/Losses</th>\n",
       "    </tr>\n",
       "  </thead>\n",
       "  <tbody>\n",
       "    <tr>\n",
       "      <th>0</th>\n",
       "      <td>Jan-10</td>\n",
       "      <td>1088983</td>\n",
       "    </tr>\n",
       "    <tr>\n",
       "      <th>1</th>\n",
       "      <td>Feb-10</td>\n",
       "      <td>-354534</td>\n",
       "    </tr>\n",
       "    <tr>\n",
       "      <th>2</th>\n",
       "      <td>Mar-10</td>\n",
       "      <td>276622</td>\n",
       "    </tr>\n",
       "    <tr>\n",
       "      <th>3</th>\n",
       "      <td>Apr-10</td>\n",
       "      <td>-728133</td>\n",
       "    </tr>\n",
       "    <tr>\n",
       "      <th>4</th>\n",
       "      <td>May-10</td>\n",
       "      <td>852993</td>\n",
       "    </tr>\n",
       "  </tbody>\n",
       "</table>\n",
       "</div>"
      ],
      "text/plain": [
       "     Date  Profit/Losses\n",
       "0  Jan-10        1088983\n",
       "1  Feb-10        -354534\n",
       "2  Mar-10         276622\n",
       "3  Apr-10        -728133\n",
       "4  May-10         852993"
      ]
     },
     "execution_count": 4,
     "metadata": {},
     "output_type": "execute_result"
    }
   ],
   "source": [
    "#Method \n",
    "\n",
    "file = Path(\"/Users/Masih/Desktop/challenge /Pybank /Resources/budget_data.csv\")\n",
    "file = pd.read_csv(file, encoding=\"ISO-8859-1\")\n",
    "file.head()\n"
   ]
  },
  {
   "cell_type": "code",
   "execution_count": 5,
   "metadata": {},
   "outputs": [
    {
     "data": {
      "text/plain": [
       "86"
      ]
     },
     "execution_count": 5,
     "metadata": {},
     "output_type": "execute_result"
    }
   ],
   "source": [
    "# The total number of months included in the dataset\n",
    "total_months = len(file)\n",
    "total_months"
   ]
  },
  {
   "cell_type": "code",
   "execution_count": 6,
   "metadata": {},
   "outputs": [
    {
     "data": {
      "text/plain": [
       "22564198"
      ]
     },
     "execution_count": 6,
     "metadata": {},
     "output_type": "execute_result"
    }
   ],
   "source": [
    "# The net total amount of \"Profit/Losses\" over the entire period. \n",
    "\n",
    "net = file['Profit/Losses'].sum()\n",
    "net\n"
   ]
  },
  {
   "cell_type": "code",
   "execution_count": 7,
   "metadata": {},
   "outputs": [
    {
     "data": {
      "text/plain": [
       "-8311.105882352942"
      ]
     },
     "execution_count": 7,
     "metadata": {},
     "output_type": "execute_result"
    }
   ],
   "source": [
    "# The changes in \"Profit/Losses\" over the entire period, and then the average of those changes.\n",
    "\n",
    "changes = (file['Profit/Losses'].diff()).mean()\n",
    "changes"
   ]
  },
  {
   "cell_type": "code",
   "execution_count": 8,
   "metadata": {},
   "outputs": [],
   "source": [
    "file['Profit/Loss Change'] = file['Profit/Losses'].diff()\n"
   ]
  },
  {
   "cell_type": "code",
   "execution_count": 9,
   "metadata": {},
   "outputs": [
    {
     "data": {
      "text/plain": [
       "Date                     Aug-16\n",
       "Profit/Losses            951227\n",
       "Profit/Loss Change    1862002.0\n",
       "Name: 79, dtype: object"
      ]
     },
     "execution_count": 9,
     "metadata": {},
     "output_type": "execute_result"
    }
   ],
   "source": [
    "# The greatest increase in profits (date and amount) over the entire period. \n",
    "greatest_increase = file.loc[file[\"Profit/Loss Change\"].idxmax()]\n",
    "greatest_increase"
   ]
  },
  {
   "cell_type": "code",
   "execution_count": 10,
   "metadata": {},
   "outputs": [
    {
     "data": {
      "text/plain": [
       "Date                     Feb-14\n",
       "Profit/Losses           -946748\n",
       "Profit/Loss Change   -1825558.0\n",
       "Name: 49, dtype: object"
      ]
     },
     "execution_count": 10,
     "metadata": {},
     "output_type": "execute_result"
    }
   ],
   "source": [
    "# The greatest decrease in profits (date and amount) over the entire period\n",
    "\n",
    "greatest_decrease = file.loc[file['Profit/Loss Change'].idxmin()]\n",
    "\n",
    "greatest_decrease"
   ]
  },
  {
   "cell_type": "code",
   "execution_count": 11,
   "metadata": {},
   "outputs": [
    {
     "name": "stdout",
     "output_type": "stream",
     "text": [
      "Total Months: 86\n",
      "Net Total: $22564198\n",
      "Average Change: $-8311.11\n",
      "Greatest Increase in Profits: Date                     Aug-16\n",
      "Profit/Losses            951227\n",
      "Profit/Loss Change    1862002.0\n",
      "Name: 79, dtype: object\n",
      "Greatest Decrease in Profits: Date                     Feb-14\n",
      "Profit/Losses           -946748\n",
      "Profit/Loss Change   -1825558.0\n",
      "Name: 49, dtype: object\n"
     ]
    }
   ],
   "source": [
    "# Convert 'Date' column to datetime format\n",
    "file['Date'] = pd.to_datetime(file['Date'], format='%b-%y')\n",
    "\n",
    "# Continue with the rest of your code\n",
    "print(f'Total Months: {total_months}')\n",
    "print(f'Net Total: ${net}')\n",
    "print(f'Average Change: ${changes:.2f}')\n",
    "print(f'Greatest Increase in Profits: {greatest_increase}')\n",
    "print(f'Greatest Decrease in Profits: {greatest_decrease}')\n",
    "\n"
   ]
  }
 ],
 "metadata": {
  "kernelspec": {
   "display_name": "devv",
   "language": "python",
   "name": "python3"
  },
  "language_info": {
   "codemirror_mode": {
    "name": "ipython",
    "version": 3
   },
   "file_extension": ".py",
   "mimetype": "text/x-python",
   "name": "python",
   "nbconvert_exporter": "python",
   "pygments_lexer": "ipython3",
   "version": "3.10.13"
  }
 },
 "nbformat": 4,
 "nbformat_minor": 2
}
